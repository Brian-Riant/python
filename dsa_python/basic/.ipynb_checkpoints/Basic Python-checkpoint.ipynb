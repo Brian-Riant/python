{
 "cells": [
  {
   "cell_type": "markdown",
   "id": "f55d2b24",
   "metadata": {},
   "source": [
    "# Print function "
   ]
  },
  {
   "cell_type": "markdown",
   "id": "76c2f9ea",
   "metadata": {},
   "source": [
    "The **print()** function prints the specified message to the screen, or other standard output device."
   ]
  },
  {
   "cell_type": "code",
   "execution_count": 40,
   "id": "8155afde",
   "metadata": {},
   "outputs": [
    {
     "name": "stdout",
     "output_type": "stream",
     "text": [
      "Algorithms and Data Structures\n"
     ]
    }
   ],
   "source": [
    "print(\"Algorithms and Data Structures\")"
   ]
  },
  {
   "cell_type": "code",
   "execution_count": 4,
   "id": "4f8d4c5b",
   "metadata": {},
   "outputs": [
    {
     "name": "stdout",
     "output_type": "stream",
     "text": [
      "14\n"
     ]
    }
   ],
   "source": [
    "print(2+3*4) #14"
   ]
  },
  {
   "cell_type": "code",
   "execution_count": 8,
   "id": "413c6cb9",
   "metadata": {},
   "outputs": [
    {
     "name": "stdout",
     "output_type": "stream",
     "text": [
      "2+3*4\n"
     ]
    }
   ],
   "source": [
    "print('2+3*4')"
   ]
  },
  {
   "cell_type": "code",
   "execution_count": 6,
   "id": "8f2c7856",
   "metadata": {},
   "outputs": [],
   "source": [
    "aa=10"
   ]
  },
  {
   "cell_type": "code",
   "execution_count": 7,
   "id": "a7d74e21",
   "metadata": {},
   "outputs": [
    {
     "data": {
      "text/plain": [
       "10"
      ]
     },
     "execution_count": 7,
     "metadata": {},
     "output_type": "execute_result"
    }
   ],
   "source": [
    "aa"
   ]
  },
  {
   "cell_type": "code",
   "execution_count": 3,
   "id": "568c69fe",
   "metadata": {},
   "outputs": [
    {
     "name": "stdout",
     "output_type": "stream",
     "text": [
      "20\n"
     ]
    }
   ],
   "source": [
    "print((2+3)*4) #20"
   ]
  },
  {
   "cell_type": "code",
   "execution_count": 5,
   "id": "8cf0a51f",
   "metadata": {},
   "outputs": [
    {
     "name": "stdout",
     "output_type": "stream",
     "text": [
      "1024\n"
     ]
    }
   ],
   "source": [
    "print(2**10) #1024"
   ]
  },
  {
   "cell_type": "code",
   "execution_count": 6,
   "id": "c37bc0a9",
   "metadata": {},
   "outputs": [
    {
     "name": "stdout",
     "output_type": "stream",
     "text": [
      "2.0\n",
      "2.3333333333333335\n",
      "2\n",
      "1\n"
     ]
    }
   ],
   "source": [
    "'''\n",
    "print(6/3) #2.0\n",
    "print(7/3) #2.33333333333\n",
    "print(7//3) #2\n",
    "print(7%3) #1\n",
    "'''"
   ]
  },
  {
   "cell_type": "markdown",
   "id": "7d3d5108",
   "metadata": {},
   "source": [
    "# Boolean"
   ]
  },
  {
   "cell_type": "markdown",
   "id": "08b7ea4e",
   "metadata": {},
   "source": [
    "In programming you often need to know if an expression is True or False.\n",
    "\n",
    "You can evaluate any expression in Python, and get one of two answers, True or False.\n"
   ]
  },
  {
   "cell_type": "code",
   "execution_count": 7,
   "id": "7e7676c8",
   "metadata": {},
   "outputs": [
    {
     "data": {
      "text/plain": [
       "True"
      ]
     },
     "execution_count": 7,
     "metadata": {},
     "output_type": "execute_result"
    }
   ],
   "source": [
    "False or True"
   ]
  },
  {
   "cell_type": "code",
   "execution_count": 8,
   "id": "e04f2803",
   "metadata": {},
   "outputs": [
    {
     "data": {
      "text/plain": [
       "False"
      ]
     },
     "execution_count": 8,
     "metadata": {},
     "output_type": "execute_result"
    }
   ],
   "source": [
    " not (False or True)"
   ]
  },
  {
   "cell_type": "code",
   "execution_count": 9,
   "id": "e4d3340c",
   "metadata": {},
   "outputs": [
    {
     "data": {
      "text/plain": [
       "True"
      ]
     },
     "execution_count": 9,
     "metadata": {},
     "output_type": "execute_result"
    }
   ],
   "source": [
    " True and True"
   ]
  },
  {
   "cell_type": "code",
   "execution_count": 10,
   "id": "6aa92882",
   "metadata": {},
   "outputs": [
    {
     "name": "stdout",
     "output_type": "stream",
     "text": [
      "False\n",
      "True\n"
     ]
    }
   ],
   "source": [
    "print(5 == 10)\n",
    "print(10 > 5)"
   ]
  },
  {
   "cell_type": "code",
   "execution_count": 11,
   "id": "8ef40d75",
   "metadata": {},
   "outputs": [
    {
     "name": "stdout",
     "output_type": "stream",
     "text": [
      "True\n"
     ]
    }
   ],
   "source": [
    "print((5 >= 1) and (5 <= 10))"
   ]
  },
  {
   "cell_type": "code",
   "execution_count": 2,
   "id": "ffde8e11",
   "metadata": {},
   "outputs": [
    {
     "data": {
      "text/plain": [
       "1"
      ]
     },
     "execution_count": 2,
     "metadata": {},
     "output_type": "execute_result"
    }
   ],
   "source": [
    "the_sum = 0\n",
    "the_sum = the_sum + 1\n",
    "the_sum"
   ]
  },
  {
   "cell_type": "code",
   "execution_count": 3,
   "id": "9b5e6c58",
   "metadata": {},
   "outputs": [],
   "source": [
    "the_sum = True"
   ]
  },
  {
   "cell_type": "code",
   "execution_count": 4,
   "id": "643ddb6f",
   "metadata": {},
   "outputs": [
    {
     "data": {
      "text/plain": [
       "True"
      ]
     },
     "execution_count": 4,
     "metadata": {},
     "output_type": "execute_result"
    }
   ],
   "source": [
    "the_sum"
   ]
  },
  {
   "cell_type": "markdown",
   "id": "afec0ad8",
   "metadata": {},
   "source": [
    "# Lists"
   ]
  },
  {
   "cell_type": "markdown",
   "id": "78945685",
   "metadata": {},
   "source": [
    "A list is a data structure that's built into Python and holds a collection of items. \n",
    "Lists have a number of important characteristics:\n",
    "\n",
    "List items are enclosed in square brackets, like this [item1, item2, item3].\n",
    "Lists are **ordered** – i.e. the items in the list appear in a specific order. \n",
    "This enables us to use an index to access to any item.\n",
    "Lists are **mutable**, which means you can add or remove items after a list's creation.\n",
    "List **elements do not need to be unique**. Item duplication is possible, as each element has its own distinct place and can be accessed separately through the index.\n",
    "Elements can be of different data types: you can combine strings, integers, and objects in the same list."
   ]
  },
  {
   "cell_type": "code",
   "execution_count": 17,
   "id": "5c1f7476",
   "metadata": {},
   "outputs": [],
   "source": [
    "my_list = [1,3,True,6.5]"
   ]
  },
  {
   "cell_type": "code",
   "execution_count": 23,
   "id": "2572a96b",
   "metadata": {},
   "outputs": [
    {
     "data": {
      "text/plain": [
       "[0, 0, 0, 0, 0, 0]"
      ]
     },
     "execution_count": 23,
     "metadata": {},
     "output_type": "execute_result"
    }
   ],
   "source": [
    "my_list = [0] * 6\n",
    "my_list"
   ]
  },
  {
   "cell_type": "code",
   "execution_count": 24,
   "id": "dccb788d",
   "metadata": {},
   "outputs": [
    {
     "name": "stdout",
     "output_type": "stream",
     "text": [
      "[[1, 2, 3, 4], [1, 2, 3, 4], [1, 2, 3, 4]]\n",
      "[[1, 2, 45, 4], [1, 2, 45, 4], [1, 2, 45, 4]]\n"
     ]
    }
   ],
   "source": [
    "my_list = [1,2,3,4]\n",
    "A = [my_list]*3\n",
    "print(A)\n",
    "my_list[2]=45\n",
    "print(A)\n"
   ]
  },
  {
   "cell_type": "code",
   "execution_count": 25,
   "id": "3136f8b1",
   "metadata": {},
   "outputs": [
    {
     "name": "stdout",
     "output_type": "stream",
     "text": [
      "[1024, 3, True, 6.5, False]\n",
      "[1024, 3, 4.5, True, 6.5, False]\n",
      "False\n",
      "[1024, 3, 4.5, True, 6.5]\n",
      "3\n",
      "[1024, 4.5, True, 6.5]\n",
      "[1024, 4.5, 6.5]\n",
      "[4.5, 6.5, 1024]\n",
      "[1024, 6.5, 4.5]\n",
      "1\n",
      "2\n",
      "[1024, 4.5]\n",
      "[4.5]\n"
     ]
    }
   ],
   "source": [
    "my_list = [1024, 3, True, 6.5]\n",
    "my_list.append(False)\n",
    "print(my_list)\n",
    "my_list.insert(2,4.5)\n",
    "print(my_list)\n",
    "print(my_list.pop())\n",
    "print(my_list)\n",
    "print(my_list.pop(1))\n",
    "print(my_list)\n",
    "my_list.pop(2)\n",
    "print(my_list)\n",
    "my_list.sort()\n",
    "print(my_list)\n",
    "my_list.reverse()\n",
    "print(my_list)\n",
    "print(my_list.count(6.5))\n",
    "print(my_list.index(4.5))\n",
    "my_list.remove(6.5)\n",
    "print(my_list)\n",
    "del my_list[0]\n",
    "print(my_list)\n"
   ]
  },
  {
   "cell_type": "code",
   "execution_count": 26,
   "id": "e6034b7d",
   "metadata": {},
   "outputs": [
    {
     "data": {
      "text/plain": [
       "75"
      ]
     },
     "execution_count": 26,
     "metadata": {},
     "output_type": "execute_result"
    }
   ],
   "source": [
    "(54).__add__(21)\n"
   ]
  },
  {
   "cell_type": "markdown",
   "id": "ae96b822",
   "metadata": {},
   "source": [
    "# Range"
   ]
  },
  {
   "cell_type": "markdown",
   "id": "b05b2787",
   "metadata": {},
   "source": [
    "The range() function returns a sequence of numbers, starting from 0 by default, and increments by 1 (by default), and stops before a specified number.\n",
    "\n",
    "range(start, stop, step)\n",
    "\n",
    "Parameter\tDescription\n",
    "\n",
    "start\tOptional. An integer number specifying at which position to start. Default is 0\n",
    "\n",
    "stop\tRequired. An integer number specifying at which position to stop (not included).\n",
    "\n",
    "step\tOptional. An integer number specifying the incrementation. Default is 1"
   ]
  },
  {
   "cell_type": "code",
   "execution_count": 9,
   "id": "9eb8ba5a",
   "metadata": {},
   "outputs": [
    {
     "data": {
      "text/plain": [
       "range(0, 10)"
      ]
     },
     "execution_count": 9,
     "metadata": {},
     "output_type": "execute_result"
    }
   ],
   "source": [
    "range(10)"
   ]
  },
  {
   "cell_type": "code",
   "execution_count": 10,
   "id": "1ca3dd69",
   "metadata": {},
   "outputs": [
    {
     "data": {
      "text/plain": [
       "range(0, 10)"
      ]
     },
     "execution_count": 10,
     "metadata": {},
     "output_type": "execute_result"
    }
   ],
   "source": [
    "range(0, 10)"
   ]
  },
  {
   "cell_type": "code",
   "execution_count": 11,
   "id": "610c91d6",
   "metadata": {},
   "outputs": [
    {
     "data": {
      "text/plain": [
       "[0, 1, 2, 3, 4, 5, 6, 7, 8, 9]"
      ]
     },
     "execution_count": 11,
     "metadata": {},
     "output_type": "execute_result"
    }
   ],
   "source": [
    "list(range(10))"
   ]
  },
  {
   "cell_type": "code",
   "execution_count": 28,
   "id": "318e270f",
   "metadata": {},
   "outputs": [
    {
     "data": {
      "text/plain": [
       "[10, 9, 8, 7, 6, 5, 4, 3, 2]"
      ]
     },
     "execution_count": 28,
     "metadata": {},
     "output_type": "execute_result"
    }
   ],
   "source": [
    "range(10)\n",
    "range(0, 10)\n",
    "list(range(10))\n",
    "\n",
    "range(5,10)\n",
    "\n",
    "list(range(5,10))\n",
    "\n",
    "list(range(5,10,2))\n",
    "\n",
    "list(range(10,1,-1))\n"
   ]
  },
  {
   "cell_type": "code",
   "execution_count": 1,
   "id": "dcde12bf",
   "metadata": {},
   "outputs": [
    {
     "name": "stdout",
     "output_type": "stream",
     "text": [
      "0\n",
      "1\n",
      "2\n",
      "3\n",
      "4\n",
      "5\n"
     ]
    }
   ],
   "source": [
    "x = range(6)\n",
    "for n in x:\n",
    "    print(n)"
   ]
  },
  {
   "cell_type": "code",
   "execution_count": 2,
   "id": "c0a00602",
   "metadata": {},
   "outputs": [
    {
     "name": "stdout",
     "output_type": "stream",
     "text": [
      "3\n",
      "4\n",
      "5\n"
     ]
    }
   ],
   "source": [
    "x = range(3, 6)\n",
    "for n in x:\n",
    "    print(n)"
   ]
  },
  {
   "cell_type": "code",
   "execution_count": 3,
   "id": "e7e73452",
   "metadata": {},
   "outputs": [
    {
     "name": "stdout",
     "output_type": "stream",
     "text": [
      "3\n",
      "5\n",
      "7\n",
      "9\n",
      "11\n",
      "13\n",
      "15\n",
      "17\n",
      "19\n"
     ]
    }
   ],
   "source": [
    "x = range(3, 20, 2)\n",
    "for n in x:\n",
    "    print(n)"
   ]
  },
  {
   "cell_type": "markdown",
   "id": "fe869641",
   "metadata": {},
   "source": [
    "# String"
   ]
  },
  {
   "cell_type": "code",
   "execution_count": 30,
   "id": "c034f0f2",
   "metadata": {},
   "outputs": [
    {
     "data": {
      "text/plain": [
       "'i'"
      ]
     },
     "execution_count": 30,
     "metadata": {},
     "output_type": "execute_result"
    }
   ],
   "source": [
    "my_name = \"David\"\n",
    "my_name[3]"
   ]
  },
  {
   "cell_type": "code",
   "execution_count": 31,
   "id": "0592144d",
   "metadata": {},
   "outputs": [
    {
     "data": {
      "text/plain": [
       "'David'"
      ]
     },
     "execution_count": 31,
     "metadata": {},
     "output_type": "execute_result"
    }
   ],
   "source": [
    "\"David\""
   ]
  },
  {
   "cell_type": "code",
   "execution_count": 34,
   "id": "e209eefe",
   "metadata": {},
   "outputs": [
    {
     "data": {
      "text/plain": [
       "'DavidDavid'"
      ]
     },
     "execution_count": 34,
     "metadata": {},
     "output_type": "execute_result"
    }
   ],
   "source": [
    "my_name*2 #'DavidDavid'"
   ]
  },
  {
   "cell_type": "code",
   "execution_count": null,
   "id": "d6d46651",
   "metadata": {},
   "outputs": [],
   "source": [
    "len(my_name)"
   ]
  },
  {
   "cell_type": "code",
   "execution_count": 35,
   "id": "e266044a",
   "metadata": {},
   "outputs": [
    {
     "data": {
      "text/plain": [
       "['Da', 'id']"
      ]
     },
     "execution_count": 35,
     "metadata": {},
     "output_type": "execute_result"
    }
   ],
   "source": [
    "my_name#'David'"
   ]
  },
  {
   "cell_type": "code",
   "execution_count": 36,
   "id": "59b18c4a",
   "metadata": {},
   "outputs": [
    {
     "data": {
      "text/plain": [
       "'DAVID'"
      ]
     },
     "execution_count": 36,
     "metadata": {},
     "output_type": "execute_result"
    }
   ],
   "source": [
    "my_name.upper()#'DAVID'"
   ]
  },
  {
   "cell_type": "code",
   "execution_count": 37,
   "id": "d366b33b",
   "metadata": {},
   "outputs": [
    {
     "data": {
      "text/plain": [
       "'  David   '"
      ]
     },
     "execution_count": 37,
     "metadata": {},
     "output_type": "execute_result"
    }
   ],
   "source": [
    "my_name.center(10)#' David '"
   ]
  },
  {
   "cell_type": "code",
   "execution_count": 38,
   "id": "1adc5aaf",
   "metadata": {},
   "outputs": [
    {
     "data": {
      "text/plain": [
       "2"
      ]
     },
     "execution_count": 38,
     "metadata": {},
     "output_type": "execute_result"
    }
   ],
   "source": [
    "my_name.find('v')#2"
   ]
  },
  {
   "cell_type": "code",
   "execution_count": 39,
   "id": "c29b6c0c",
   "metadata": {},
   "outputs": [
    {
     "data": {
      "text/plain": [
       "['Da', 'id']"
      ]
     },
     "execution_count": 39,
     "metadata": {},
     "output_type": "execute_result"
    }
   ],
   "source": [
    "my_name.split('v')#['Da', 'id']"
   ]
  },
  {
   "cell_type": "code",
   "execution_count": 41,
   "id": "fa182fd5",
   "metadata": {},
   "outputs": [],
   "source": [
    "my_list=[1, 3, True, 6.5]"
   ]
  },
  {
   "cell_type": "code",
   "execution_count": 42,
   "id": "590e8af8",
   "metadata": {},
   "outputs": [
    {
     "data": {
      "text/plain": [
       "[1024, 3, True, 6.5]"
      ]
     },
     "execution_count": 42,
     "metadata": {},
     "output_type": "execute_result"
    }
   ],
   "source": [
    "my_list[0]=2**10\n",
    "my_list #[1024, 3, True, 6.5]\n"
   ]
  },
  {
   "cell_type": "markdown",
   "id": "c332c792",
   "metadata": {},
   "source": [
    "# Tuples"
   ]
  },
  {
   "cell_type": "markdown",
   "id": "854080f4",
   "metadata": {},
   "source": [
    "Tuples are used to store multiple items in a single variable.\n",
    "\n",
    "n Python, we use tuples to store multiple data similar to a list. For example,\n",
    "\n",
    "Tuple is one of 4 built-in data types in Python used to store collections of data, (the other 3 are List, Set, and Dictionary, all with different qualities and usage).\n",
    "\n",
    "A tuple is a collection which is ordered and unchangeable.\n",
    "\n",
    "Tuples are written with round brackets."
   ]
  },
  {
   "cell_type": "code",
   "execution_count": 44,
   "id": "b701fc66",
   "metadata": {},
   "outputs": [
    {
     "data": {
      "text/plain": [
       "(2, True, 4.96)"
      ]
     },
     "execution_count": 44,
     "metadata": {},
     "output_type": "execute_result"
    }
   ],
   "source": [
    "my_tuple = (2,True,4.96)\n",
    "my_tuple\n",
    "#(2, True, 4.96)"
   ]
  },
  {
   "cell_type": "code",
   "execution_count": 45,
   "id": "1b367891",
   "metadata": {},
   "outputs": [
    {
     "data": {
      "text/plain": [
       "3"
      ]
     },
     "execution_count": 45,
     "metadata": {},
     "output_type": "execute_result"
    }
   ],
   "source": [
    "len(my_tuple)\n",
    "#3"
   ]
  },
  {
   "cell_type": "code",
   "execution_count": 46,
   "id": "c1d81903",
   "metadata": {},
   "outputs": [
    {
     "data": {
      "text/plain": [
       "2"
      ]
     },
     "execution_count": 46,
     "metadata": {},
     "output_type": "execute_result"
    }
   ],
   "source": [
    "my_tuple[0]\n",
    "#2"
   ]
  },
  {
   "cell_type": "code",
   "execution_count": 47,
   "id": "4b3d27e8",
   "metadata": {},
   "outputs": [
    {
     "data": {
      "text/plain": [
       "(2, True, 4.96, 2, True, 4.96, 2, True, 4.96)"
      ]
     },
     "execution_count": 47,
     "metadata": {},
     "output_type": "execute_result"
    }
   ],
   "source": [
    "my_tuple * 3\n",
    "#(2, True, 4.96, 2, True, 4.96, 2, True, 4.96)"
   ]
  },
  {
   "cell_type": "code",
   "execution_count": 48,
   "id": "80f4ae4b",
   "metadata": {},
   "outputs": [
    {
     "data": {
      "text/plain": [
       "(2, True)"
      ]
     },
     "execution_count": 48,
     "metadata": {},
     "output_type": "execute_result"
    }
   ],
   "source": [
    "my_tuple[0:2]\n",
    "#(2, True)"
   ]
  },
  {
   "cell_type": "markdown",
   "id": "c29aec6b",
   "metadata": {},
   "source": [
    "# Sets\n"
   ]
  },
  {
   "cell_type": "markdown",
   "id": "1305bbc0",
   "metadata": {},
   "source": [
    "In Python, sets are exactly like lists except for the fact that their elements are immutable (that means you cannot change/mutate an element of a set once declared). \n",
    "However, you can add/remove elements from the set.\n",
    "\n",
    "If that was confusing, let me try and summarize:\n",
    "\n",
    "A set is a mutable, unordered group of elements, where the elements themselves are immutable.\n",
    "Another characteristic of a set is that it may include elements of different types. \n",
    "This means you can have a group of numbers, strings, and even tuples, all in the same set!"
   ]
  },
  {
   "cell_type": "code",
   "execution_count": 49,
   "id": "4d1393f1",
   "metadata": {},
   "outputs": [
    {
     "data": {
      "text/plain": [
       "{3, 4.5, 6, False, 'cat'}"
      ]
     },
     "execution_count": 49,
     "metadata": {},
     "output_type": "execute_result"
    }
   ],
   "source": [
    "{3,6,\"cat\",4.5,False}\n",
    "#{False, 4.5, 3, 6, 'cat'}"
   ]
  },
  {
   "cell_type": "code",
   "execution_count": 50,
   "id": "ddeece31",
   "metadata": {},
   "outputs": [
    {
     "data": {
      "text/plain": [
       "{3, 4.5, 6, False, 'cat'}"
      ]
     },
     "execution_count": 50,
     "metadata": {},
     "output_type": "execute_result"
    }
   ],
   "source": [
    "my_set = {3,6,\"cat\",4.5,False}\n",
    "my_set\n",
    "#{False, 3, 4.5, 6, 'cat'}\n"
   ]
  },
  {
   "cell_type": "code",
   "execution_count": 51,
   "id": "068b1408",
   "metadata": {},
   "outputs": [
    {
     "data": {
      "text/plain": [
       "5"
      ]
     },
     "execution_count": 51,
     "metadata": {},
     "output_type": "execute_result"
    }
   ],
   "source": [
    "len(my_set)\n",
    "#5"
   ]
  },
  {
   "cell_type": "code",
   "execution_count": 52,
   "id": "600b37ea",
   "metadata": {},
   "outputs": [
    {
     "data": {
      "text/plain": [
       "True"
      ]
     },
     "execution_count": 52,
     "metadata": {},
     "output_type": "execute_result"
    }
   ],
   "source": [
    "False in my_set\n",
    "#True"
   ]
  },
  {
   "cell_type": "code",
   "execution_count": 53,
   "id": "cc1959f0",
   "metadata": {},
   "outputs": [
    {
     "data": {
      "text/plain": [
       "False"
      ]
     },
     "execution_count": 53,
     "metadata": {},
     "output_type": "execute_result"
    }
   ],
   "source": [
    "\"dog\" in my_set\n",
    "#False"
   ]
  },
  {
   "cell_type": "code",
   "execution_count": 54,
   "id": "ee917448",
   "metadata": {},
   "outputs": [
    {
     "data": {
      "text/plain": [
       "{100, 3, 4.5, 6, 99, False, 'cat'}"
      ]
     },
     "execution_count": 54,
     "metadata": {},
     "output_type": "execute_result"
    }
   ],
   "source": [
    "your_set = {99,3,100}\n",
    "my_set.union(your_set)\n",
    "#{False, 3, 4.5, 6, 99, 'cat', 100}"
   ]
  },
  {
   "cell_type": "code",
   "execution_count": 55,
   "id": "8c924451",
   "metadata": {},
   "outputs": [
    {
     "data": {
      "text/plain": [
       "{100, 3, 4.5, 6, 99, False, 'cat'}"
      ]
     },
     "execution_count": 55,
     "metadata": {},
     "output_type": "execute_result"
    }
   ],
   "source": [
    "my_set | your_set\n",
    "#{False, 3, 4.5, 6, 99, 'cat', 100}"
   ]
  },
  {
   "cell_type": "code",
   "execution_count": 56,
   "id": "8e467e6b",
   "metadata": {},
   "outputs": [
    {
     "data": {
      "text/plain": [
       "{3}"
      ]
     },
     "execution_count": 56,
     "metadata": {},
     "output_type": "execute_result"
    }
   ],
   "source": [
    "my_set.intersection(your_set)\n",
    "#{3}\n",
    "my_set & your_set\n",
    "#{3}\n"
   ]
  },
  {
   "cell_type": "code",
   "execution_count": 57,
   "id": "af20de07",
   "metadata": {},
   "outputs": [
    {
     "data": {
      "text/plain": [
       "{4.5, 6, False, 'cat'}"
      ]
     },
     "execution_count": 57,
     "metadata": {},
     "output_type": "execute_result"
    }
   ],
   "source": [
    "my_set.difference(your_set)\n",
    "#{False, 4.5, 6, 'cat'}"
   ]
  },
  {
   "cell_type": "code",
   "execution_count": 58,
   "id": "b98f82b5",
   "metadata": {},
   "outputs": [
    {
     "data": {
      "text/plain": [
       "{4.5, 6, False, 'cat'}"
      ]
     },
     "execution_count": 58,
     "metadata": {},
     "output_type": "execute_result"
    }
   ],
   "source": [
    "my_set - your_set\n",
    "#{False, 4.5, 6, 'cat'}"
   ]
  },
  {
   "cell_type": "code",
   "execution_count": 59,
   "id": "397b2eb8",
   "metadata": {},
   "outputs": [
    {
     "data": {
      "text/plain": [
       "True"
      ]
     },
     "execution_count": 59,
     "metadata": {},
     "output_type": "execute_result"
    }
   ],
   "source": [
    "{3,100}.issubset(your_set)\n",
    "#True\n"
   ]
  },
  {
   "cell_type": "code",
   "execution_count": 60,
   "id": "98f4256b",
   "metadata": {},
   "outputs": [
    {
     "data": {
      "text/plain": [
       "True"
      ]
     },
     "execution_count": 60,
     "metadata": {},
     "output_type": "execute_result"
    }
   ],
   "source": [
    "{3,100} <= your_set\n",
    "#True"
   ]
  },
  {
   "cell_type": "code",
   "execution_count": 61,
   "id": "f7042c83",
   "metadata": {},
   "outputs": [
    {
     "data": {
      "text/plain": [
       "{3, 4.5, 6, False, 'cat', 'house'}"
      ]
     },
     "execution_count": 61,
     "metadata": {},
     "output_type": "execute_result"
    }
   ],
   "source": [
    "my_set.add(\"house\")\n",
    "my_set\n",
    "#{False, 3, 4.5, 6, 'house', 'cat'}"
   ]
  },
  {
   "cell_type": "code",
   "execution_count": 62,
   "id": "cc6fedba",
   "metadata": {},
   "outputs": [
    {
     "data": {
      "text/plain": [
       "{3, 6, False, 'cat', 'house'}"
      ]
     },
     "execution_count": 62,
     "metadata": {},
     "output_type": "execute_result"
    }
   ],
   "source": [
    "my_set.remove(4.5)\n",
    "my_set\n",
    "#{False, 3, 6, 'house', 'cat'}"
   ]
  },
  {
   "cell_type": "code",
   "execution_count": 63,
   "id": "f84950f4",
   "metadata": {},
   "outputs": [
    {
     "data": {
      "text/plain": [
       "False"
      ]
     },
     "execution_count": 63,
     "metadata": {},
     "output_type": "execute_result"
    }
   ],
   "source": [
    "my_set.pop()\n",
    "#False"
   ]
  },
  {
   "cell_type": "code",
   "execution_count": 64,
   "id": "5a9c4713",
   "metadata": {},
   "outputs": [
    {
     "data": {
      "text/plain": [
       "{3, 6, 'cat', 'house'}"
      ]
     },
     "execution_count": 64,
     "metadata": {},
     "output_type": "execute_result"
    }
   ],
   "source": [
    "my_set\n",
    "#{3, 6, 'house', 'cat'}\n"
   ]
  },
  {
   "cell_type": "code",
   "execution_count": 65,
   "id": "7be9a273",
   "metadata": {},
   "outputs": [
    {
     "data": {
      "text/plain": [
       "set()"
      ]
     },
     "execution_count": 65,
     "metadata": {},
     "output_type": "execute_result"
    }
   ],
   "source": [
    "my_set.clear()\n",
    "my_set\n",
    "set()"
   ]
  },
  {
   "cell_type": "markdown",
   "id": "d1cb13cf",
   "metadata": {},
   "source": [
    "# Dictionary"
   ]
  },
  {
   "cell_type": "markdown",
   "id": "465d8f7c",
   "metadata": {},
   "source": [
    "Dictionaries are used to store data values in key:value pairs.\n",
    "\n",
    "A dictionary is a collection which is ordered*, changeable and do not allow duplicates.\n",
    "\n",
    "NB: As of Python version 3.7, dictionaries are ordered. In Python 3.6 and earlier, dictionaries are unordered."
   ]
  },
  {
   "cell_type": "code",
   "execution_count": 69,
   "id": "ecb98bdb",
   "metadata": {},
   "outputs": [
    {
     "name": "stdout",
     "output_type": "stream",
     "text": [
      "DesMoines\n"
     ]
    }
   ],
   "source": [
    "capitals = {'Iowa':'DesMoines','Wisconsin':'Madison'}\n",
    "print(capitals['Iowa'])"
   ]
  },
  {
   "cell_type": "code",
   "execution_count": 70,
   "id": "6e72f56f",
   "metadata": {},
   "outputs": [
    {
     "name": "stdout",
     "output_type": "stream",
     "text": [
      "{'Iowa': 'DesMoines', 'Wisconsin': 'Madison', 'Utah': 'SaltLakeCity'}\n"
     ]
    }
   ],
   "source": [
    "capitals['Utah']='SaltLakeCity'\n",
    "print(capitals)\n",
    "capitals['California']='Sacramento'\n"
   ]
  },
  {
   "cell_type": "code",
   "execution_count": 71,
   "id": "5cd067c2",
   "metadata": {},
   "outputs": [
    {
     "name": "stdout",
     "output_type": "stream",
     "text": [
      "4\n",
      "DesMoines  is the capital of  Iowa\n",
      "Madison  is the capital of  Wisconsin\n",
      "SaltLakeCity  is the capital of  Utah\n",
      "Sacramento  is the capital of  California\n"
     ]
    }
   ],
   "source": [
    "print(len(capitals))\n",
    "for k in capitals:\n",
    "    print(capitals[k],\" is the capital of \", k)"
   ]
  },
  {
   "cell_type": "code",
   "execution_count": 86,
   "id": "038a12ca",
   "metadata": {},
   "outputs": [
    {
     "data": {
      "text/plain": [
       "{'david': 1410, 'brad': 1137}"
      ]
     },
     "execution_count": 86,
     "metadata": {},
     "output_type": "execute_result"
    }
   ],
   "source": [
    "phone_ext={'david':1410, 'brad':1137}\n",
    "phone_ext\n",
    "#{'brad': 1137, 'david': 1410}"
   ]
  },
  {
   "cell_type": "code",
   "execution_count": 87,
   "id": "a3f51f1d",
   "metadata": {},
   "outputs": [
    {
     "data": {
      "text/plain": [
       "dict_keys(['david', 'brad'])"
      ]
     },
     "execution_count": 87,
     "metadata": {},
     "output_type": "execute_result"
    }
   ],
   "source": [
    "phone_ext.keys() "
   ]
  },
  {
   "cell_type": "code",
   "execution_count": 88,
   "id": "f836c835",
   "metadata": {},
   "outputs": [
    {
     "data": {
      "text/plain": [
       "['david', 'brad']"
      ]
     },
     "execution_count": 88,
     "metadata": {},
     "output_type": "execute_result"
    }
   ],
   "source": [
    "list(phone_ext.keys())\n",
    "#['brad', 'david']"
   ]
  },
  {
   "cell_type": "code",
   "execution_count": 89,
   "id": "c31e9102",
   "metadata": {},
   "outputs": [
    {
     "data": {
      "text/plain": [
       "True"
      ]
     },
     "execution_count": 89,
     "metadata": {},
     "output_type": "execute_result"
    }
   ],
   "source": [
    "\"brad\" in phone_ext\n",
    "# True"
   ]
  },
  {
   "cell_type": "code",
   "execution_count": 90,
   "id": "e2d3c841",
   "metadata": {},
   "outputs": [
    {
     "data": {
      "text/plain": [
       "False"
      ]
     },
     "execution_count": 90,
     "metadata": {},
     "output_type": "execute_result"
    }
   ],
   "source": [
    "1137 in phone_ext\n",
    "#False # 1137 is not a key in phone_ext"
   ]
  },
  {
   "cell_type": "code",
   "execution_count": 91,
   "id": "121b9b4c",
   "metadata": {},
   "outputs": [
    {
     "data": {
      "text/plain": [
       "{'david': 1410, 'brad': 1137}"
      ]
     },
     "execution_count": 91,
     "metadata": {},
     "output_type": "execute_result"
    }
   ],
   "source": [
    "phone_ext.values() # Returns the values of the dictionary\n",
    "phone_ext\n",
    "#dict_values([1137, 1410])"
   ]
  },
  {
   "cell_type": "code",
   "execution_count": 92,
   "id": "bc3fe7ee",
   "metadata": {},
   "outputs": [
    {
     "data": {
      "text/plain": [
       "[1410, 1137]"
      ]
     },
     "execution_count": 92,
     "metadata": {},
     "output_type": "execute_result"
    }
   ],
   "source": [
    "list(phone_ext.values())\n",
    "#[1137, 1410]"
   ]
  },
  {
   "cell_type": "code",
   "execution_count": 93,
   "id": "2ca9f98c",
   "metadata": {},
   "outputs": [
    {
     "data": {
      "text/plain": [
       "dict_items([('david', 1410), ('brad', 1137)])"
      ]
     },
     "execution_count": 93,
     "metadata": {},
     "output_type": "execute_result"
    }
   ],
   "source": [
    "phone_ext.items()\n",
    "#dict_items([('brad', 1137), ('david', 1410)])"
   ]
  },
  {
   "cell_type": "code",
   "execution_count": 94,
   "id": "051f9a01",
   "metadata": {},
   "outputs": [
    {
     "data": {
      "text/plain": [
       "[('david', 1410), ('brad', 1137)]"
      ]
     },
     "execution_count": 94,
     "metadata": {},
     "output_type": "execute_result"
    }
   ],
   "source": [
    "list(phone_ext.items())\n",
    "#[('brad', 1137), ('david', 1410)]"
   ]
  },
  {
   "cell_type": "code",
   "execution_count": 95,
   "id": "cdac538e",
   "metadata": {},
   "outputs": [
    {
     "data": {
      "text/plain": [
       "'NO ENTRY'"
      ]
     },
     "execution_count": 95,
     "metadata": {},
     "output_type": "execute_result"
    }
   ],
   "source": [
    "phone_ext.get(\"kent\")\n",
    "phone_ext.get(\"kent\",\"NO ENTRY\")\n",
    "#'NO ENTRY'"
   ]
  },
  {
   "cell_type": "code",
   "execution_count": 96,
   "id": "362f9d4e",
   "metadata": {},
   "outputs": [
    {
     "data": {
      "text/plain": [
       "{'brad': 1137}"
      ]
     },
     "execution_count": 96,
     "metadata": {},
     "output_type": "execute_result"
    }
   ],
   "source": [
    "del phone_ext[\"david\"]\n",
    "phone_ext\n",
    "#{'brad': 1137}"
   ]
  },
  {
   "cell_type": "markdown",
   "id": "4fe4340e",
   "metadata": {},
   "source": [
    "# Input and output"
   ]
  },
  {
   "cell_type": "code",
   "execution_count": 97,
   "id": "e03efa75",
   "metadata": {},
   "outputs": [
    {
     "name": "stdout",
     "output_type": "stream",
     "text": [
      "Please enter your name: janie\n"
     ]
    }
   ],
   "source": [
    "user_name = input('Please enter your name: ')"
   ]
  },
  {
   "cell_type": "code",
   "execution_count": 98,
   "id": "2e62f251",
   "metadata": {},
   "outputs": [
    {
     "name": "stdout",
     "output_type": "stream",
     "text": [
      "Your name in all capitals is JANIE and has length 5\n"
     ]
    }
   ],
   "source": [
    "print(\"Your name in all capitals is\",user_name.upper(),\n",
    "\"and has length\", len(user_name))"
   ]
  },
  {
   "cell_type": "code",
   "execution_count": 101,
   "id": "c11a7821",
   "metadata": {},
   "outputs": [
    {
     "name": "stdout",
     "output_type": "stream",
     "text": [
      "Please enter the radius of the circle 99\n"
     ]
    }
   ],
   "source": [
    "user_radius = input(\"Please enter the radius of the circle \")"
   ]
  },
  {
   "cell_type": "code",
   "execution_count": 105,
   "id": "229ff624",
   "metadata": {},
   "outputs": [
    {
     "data": {
      "text/plain": [
       "99.0"
      ]
     },
     "execution_count": 105,
     "metadata": {},
     "output_type": "execute_result"
    }
   ],
   "source": [
    "radius = float(user_radius)\n",
    "radius"
   ]
  },
  {
   "cell_type": "code",
   "execution_count": 104,
   "id": "fafbe46a",
   "metadata": {},
   "outputs": [
    {
     "data": {
      "text/plain": [
       "198.0"
      ]
     },
     "execution_count": 104,
     "metadata": {},
     "output_type": "execute_result"
    }
   ],
   "source": [
    "diameter = 2 * radius\n",
    "diameter"
   ]
  },
  {
   "cell_type": "code",
   "execution_count": null,
   "id": "7b76baf4",
   "metadata": {},
   "outputs": [],
   "source": [
    "print(\"Hello\")\n",
    "Hello\n",
    ">>> print(\"Hello\",\"World\")\n",
    "Hello World\n",
    ">>> print(\"Hello\",\"World\", sep=\"***\")\n",
    "Hello***World\n",
    ">>> print(\"Hello\",\"World\", end=\"***\")\n",
    "Hello World***\n",
    ">>> print(\"Hello\", end=\"***\"); print(\"World\")\n",
    "Hello***World"
   ]
  },
  {
   "cell_type": "code",
   "execution_count": null,
   "id": "f5a114ff",
   "metadata": {},
   "outputs": [],
   "source": []
  },
  {
   "cell_type": "code",
   "execution_count": null,
   "id": "8dd1c7ac",
   "metadata": {},
   "outputs": [],
   "source": [
    "print(name, \"is\", age, \"years old.\")"
   ]
  },
  {
   "cell_type": "code",
   "execution_count": null,
   "id": "d6a56b63",
   "metadata": {},
   "outputs": [],
   "source": [
    "print(\"%s is %d years old.\" % (name, age))"
   ]
  },
  {
   "cell_type": "code",
   "execution_count": null,
   "id": "568933dd",
   "metadata": {},
   "outputs": [],
   "source": [
    "price = 24\n",
    ">>> item = \"banana\"\n",
    ">>> print(\"The %s costs %d cents\"%(item,price))\n",
    "The banana costs 24 cents\n",
    ">>> print(\"The %+10s costs %5.2f cents\"%(item,price))\n",
    "The banana costs 24.00 cents\n",
    ">>> print(\"The %+10s costs %10.2f cents\"%(item,price))\n",
    "The banana costs 24.00 cents\n",
    ">>> item_dict = {\"item\":\"banana\",\"cost\":24}\n",
    ">>> print(\"The %(item)s costs %(cost)7.1f cents\"%item_dict)\n",
    "The banana costs 24.0 cents"
   ]
  },
  {
   "cell_type": "code",
   "execution_count": null,
   "id": "0af89f64",
   "metadata": {},
   "outputs": [],
   "source": []
  },
  {
   "cell_type": "code",
   "execution_count": 7,
   "id": "e5aab61f",
   "metadata": {},
   "outputs": [
    {
     "ename": "IndentationError",
     "evalue": "expected an indented block (2904850338.py, line 3)",
     "output_type": "error",
     "traceback": [
      "\u001b[1;36m  Input \u001b[1;32mIn [7]\u001b[1;36m\u001b[0m\n\u001b[1;33m    print(\"Hello, world\")\u001b[0m\n\u001b[1;37m    ^\u001b[0m\n\u001b[1;31mIndentationError\u001b[0m\u001b[1;31m:\u001b[0m expected an indented block\n"
     ]
    }
   ],
   "source": [
    "counter = 1\n",
    "while counter <= 5:\n",
    "print(\"Hello, world\")\n",
    "counter = counter + 1"
   ]
  },
  {
   "cell_type": "code",
   "execution_count": null,
   "id": "3dded06f",
   "metadata": {},
   "outputs": [],
   "source": []
  },
  {
   "cell_type": "code",
   "execution_count": null,
   "id": "95a35c7f",
   "metadata": {},
   "outputs": [],
   "source": [
    "for item in [1,3,6,2,5]:\n",
    "print(item)"
   ]
  },
  {
   "cell_type": "code",
   "execution_count": null,
   "id": "f20bc87f",
   "metadata": {},
   "outputs": [],
   "source": []
  },
  {
   "cell_type": "code",
   "execution_count": null,
   "id": "c14050e0",
   "metadata": {},
   "outputs": [],
   "source": [
    "for item in range(5):\n",
    "print(item ** 2)"
   ]
  },
  {
   "cell_type": "code",
   "execution_count": null,
   "id": "98e3fcdc",
   "metadata": {},
   "outputs": [],
   "source": [
    "word_list = ['cat','dog','rabbit']\n",
    "letter_list = [ ]\n",
    "for a_word in word_list:\n",
    "for a_letter in a_word:\n",
    "letter_list.append(a_letter)\n",
    "print(letter_list)"
   ]
  },
  {
   "cell_type": "code",
   "execution_count": 2,
   "id": "849f9f2d",
   "metadata": {},
   "outputs": [],
   "source": [
    "n=6"
   ]
  },
  {
   "cell_type": "code",
   "execution_count": 4,
   "id": "cbd7dd36",
   "metadata": {},
   "outputs": [],
   "source": [
    "import numpy as np"
   ]
  },
  {
   "cell_type": "code",
   "execution_count": 5,
   "id": "c48fe1a2",
   "metadata": {},
   "outputs": [
    {
     "name": "stdout",
     "output_type": "stream",
     "text": [
      "2.449489742783178\n"
     ]
    }
   ],
   "source": [
    "if n < 0:\n",
    " print(\"Sorry, value is negative\")\n",
    "else:\n",
    " print(np.math.sqrt(n))"
   ]
  },
  {
   "cell_type": "code",
   "execution_count": 14,
   "id": "26dffe2f",
   "metadata": {},
   "outputs": [],
   "source": [
    "score=50"
   ]
  },
  {
   "cell_type": "code",
   "execution_count": 15,
   "id": "e628c13f",
   "metadata": {},
   "outputs": [
    {
     "name": "stdout",
     "output_type": "stream",
     "text": [
      "F\n"
     ]
    }
   ],
   "source": [
    "if score >= 90:\n",
    "    print('A')\n",
    "elif score >= 80:\n",
    "    print('B')\n",
    "elif score >= 70:\n",
    "    print('C')\n",
    "elif score >= 60:\n",
    "    print('D')\n",
    "else:\n",
    "    print('F')\n"
   ]
  },
  {
   "cell_type": "code",
   "execution_count": 6,
   "id": "6cd3cdc6",
   "metadata": {},
   "outputs": [
    {
     "ename": "NameError",
     "evalue": "name 'math' is not defined",
     "output_type": "error",
     "traceback": [
      "\u001b[1;31m---------------------------------------------------------------------------\u001b[0m",
      "\u001b[1;31mNameError\u001b[0m                                 Traceback (most recent call last)",
      "Input \u001b[1;32mIn [6]\u001b[0m, in \u001b[0;36m<cell line: 3>\u001b[1;34m()\u001b[0m\n\u001b[0;32m      1\u001b[0m \u001b[38;5;28;01mif\u001b[39;00m n \u001b[38;5;241m<\u001b[39m \u001b[38;5;241m0\u001b[39m:\n\u001b[0;32m      2\u001b[0m     n \u001b[38;5;241m=\u001b[39m \u001b[38;5;28mabs\u001b[39m(n)\n\u001b[1;32m----> 3\u001b[0m \u001b[38;5;28mprint\u001b[39m(\u001b[43mmath\u001b[49m\u001b[38;5;241m.\u001b[39msqrt(n))\n",
      "\u001b[1;31mNameError\u001b[0m: name 'math' is not defined"
     ]
    }
   ],
   "source": [
    "if n < 0:\n",
    "    n = abs(n)\n",
    "print(math.sqrt(n))"
   ]
  },
  {
   "cell_type": "code",
   "execution_count": 106,
   "id": "bce93edd",
   "metadata": {},
   "outputs": [
    {
     "data": {
      "text/plain": [
       "[1, 4, 9, 16, 25, 36, 49, 64, 81, 100]"
      ]
     },
     "execution_count": 106,
     "metadata": {},
     "output_type": "execute_result"
    }
   ],
   "source": [
    "sq_list = []\n",
    "for x in range(1, 11):\n",
    "    sq_list.append(x * x)\n",
    "sq_list\n",
    "#[1, 4, 9, 16, 25, 36, 49, 64, 81, 100]\n"
   ]
  },
  {
   "cell_type": "code",
   "execution_count": null,
   "id": "367aae63",
   "metadata": {},
   "outputs": [],
   "source": [
    "sq_list = [x * x for x in range(1, 11)]\n",
    "sq_list\n",
    "#[1, 4, 9, 16, 25, 36, 49, 64, 81, 100]"
   ]
  },
  {
   "cell_type": "code",
   "execution_count": 107,
   "id": "e736780f",
   "metadata": {},
   "outputs": [
    {
     "data": {
      "text/plain": [
       "[1, 9, 25, 49, 81]"
      ]
     },
     "execution_count": 107,
     "metadata": {},
     "output_type": "execute_result"
    }
   ],
   "source": [
    "sq_list = [x * x for x in range(1, 11) if x % 2 != 0]\n",
    ">>> sq_list\n",
    "#[1, 9, 25, 49, 81]"
   ]
  },
  {
   "cell_type": "code",
   "execution_count": 3,
   "id": "cfcf588b",
   "metadata": {},
   "outputs": [
    {
     "data": {
      "text/plain": [
       "['C', 'M', 'P', 'R', 'H', 'N', 'S', 'N']"
      ]
     },
     "execution_count": 3,
     "metadata": {},
     "output_type": "execute_result"
    }
   ],
   "source": [
    "[ch.upper() for ch in 'comprehension' if ch not in 'aeiou']"
   ]
  },
  {
   "cell_type": "markdown",
   "id": "9c2e3787",
   "metadata": {},
   "source": [
    "# Example: Checking for prime"
   ]
  },
  {
   "cell_type": "code",
   "execution_count": 4,
   "id": "b22fea7c",
   "metadata": {},
   "outputs": [
    {
     "name": "stdout",
     "output_type": "stream",
     "text": [
      "29 is a prime number\n"
     ]
    }
   ],
   "source": [
    "# Program to check if a number is prime or not\n",
    "\n",
    "num = 29\n",
    "\n",
    "# To take input from the user\n",
    "#num = int(input(\"Enter a number: \"))\n",
    "\n",
    "# define a flag variable\n",
    "flag = False\n",
    "\n",
    "if num == 1:\n",
    "    print(num, \"is not a prime number\")\n",
    "elif num > 1:\n",
    "    # check for factors\n",
    "    for i in range(2, num):\n",
    "        if (num % i) == 0:\n",
    "            # if factor is found, set flag to True\n",
    "            flag = True\n",
    "            # break out of loop\n",
    "            break\n",
    "\n",
    "    # check if flag is True\n",
    "    if flag:\n",
    "        print(num, \"is not a prime number\")\n",
    "    else:\n",
    "        print(num, \"is a prime number\")"
   ]
  },
  {
   "cell_type": "code",
   "execution_count": 10,
   "id": "630fb63e",
   "metadata": {},
   "outputs": [
    {
     "name": "stdout",
     "output_type": "stream",
     "text": [
      "407 is a prime number\n",
      "407 is a prime number\n",
      "407 is a prime number\n",
      "407 is a prime number\n",
      "407 is a prime number\n",
      "407 is a prime number\n",
      "407 is a prime number\n",
      "407 is a prime number\n",
      "407 is a prime number\n",
      "407 is not a prime number\n",
      "11 times 37 is 407\n"
     ]
    }
   ],
   "source": [
    "num = 407\n",
    "\n",
    "# To take input from the user\n",
    "#num = int(input(\"Enter a number: \"))\n",
    "\n",
    "if num == 1:\n",
    "    print(num, \"is not a prime number\")\n",
    "elif num > 1:\n",
    "   # check for factors\n",
    "   for i in range(2,num):\n",
    "        if (num % i) == 0:\n",
    "            print(num,\"is not a prime number\")\n",
    "            print(i,\"times\",num//i,\"is\",num)\n",
    "            break\n",
    "        else:\n",
    "            print(num,\"is a prime number\")\n",
    "       \n",
    "#if input number is less than\n",
    "# or equal to 1, it is not prime\n",
    "else:\n",
    "    print(num,\"is not a prime number\")"
   ]
  },
  {
   "cell_type": "code",
   "execution_count": null,
   "id": "2cb332b3",
   "metadata": {},
   "outputs": [],
   "source": []
  }
 ],
 "metadata": {
  "kernelspec": {
   "display_name": "Python 3 (ipykernel)",
   "language": "python",
   "name": "python3"
  },
  "language_info": {
   "codemirror_mode": {
    "name": "ipython",
    "version": 3
   },
   "file_extension": ".py",
   "mimetype": "text/x-python",
   "name": "python",
   "nbconvert_exporter": "python",
   "pygments_lexer": "ipython3",
   "version": "3.11.5"
  }
 },
 "nbformat": 4,
 "nbformat_minor": 5
}
