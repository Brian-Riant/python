{
 "cells": [
  {
   "cell_type": "code",
   "execution_count": 2,
   "metadata": {},
   "outputs": [
    {
     "data": {
      "text/plain": [
       "[4, 4, 4, 4, 4, 4, 4, 4]"
      ]
     },
     "execution_count": 2,
     "metadata": {},
     "output_type": "execute_result"
    }
   ],
   "source": [
    "list = [4] * 8\n",
    "list"
   ]
  },
  {
   "cell_type": "code",
   "execution_count": 3,
   "metadata": {},
   "outputs": [
    {
     "data": {
      "text/plain": [
       "[0, 10, 6, 0, 10, 6, 0, 10, 6, 0, 10, 6]"
      ]
     },
     "execution_count": 3,
     "metadata": {},
     "output_type": "execute_result"
    }
   ],
   "source": [
    "my_list = [0,10,6] * 4\n",
    "my_list"
   ]
  },
  {
   "cell_type": "code",
   "execution_count": 6,
   "metadata": {},
   "outputs": [
    {
     "ename": "NameError",
     "evalue": "name 'mylist' is not defined",
     "output_type": "error",
     "traceback": [
      "\u001b[0;31m---------------------------------------------------------------------------\u001b[0m",
      "\u001b[0;31mNameError\u001b[0m                                 Traceback (most recent call last)",
      "Cell \u001b[0;32mIn[6], line 2\u001b[0m\n\u001b[1;32m      1\u001b[0m my_list \u001b[38;5;241m=\u001b[39m [my_list] \u001b[38;5;241m*\u001b[39m\u001b[38;5;241m4\u001b[39m\n\u001b[0;32m----> 2\u001b[0m \u001b[43mmylist\u001b[49m\n",
      "\u001b[0;31mNameError\u001b[0m: name 'mylist' is not defined"
     ]
    }
   ],
   "source": [
    "my_list = [my_list] *4\n",
    "mylist"
   ]
  },
  {
   "cell_type": "code",
   "execution_count": 5,
   "metadata": {},
   "outputs": [
    {
     "data": {
      "text/plain": [
       "14"
      ]
     },
     "execution_count": 5,
     "metadata": {},
     "output_type": "execute_result"
    }
   ],
   "source": [
    "2+3*4"
   ]
  },
  {
   "cell_type": "code",
   "execution_count": 9,
   "metadata": {},
   "outputs": [
    {
     "data": {
      "text/plain": [
       "5"
      ]
     },
     "execution_count": 9,
     "metadata": {},
     "output_type": "execute_result"
    }
   ],
   "source": [
    "\n",
    "11//2"
   ]
  },
  {
   "cell_type": "code",
   "execution_count": 66,
   "metadata": {},
   "outputs": [
    {
     "name": "stdout",
     "output_type": "stream",
     "text": [
      "[2, 290, False, 19.6, 2]\n",
      "[2, 290, False, 3, 19.6, 2]\n",
      "[2, 290, False, 3, 19.6]\n",
      "19.6\n",
      "[2, False, 3]\n",
      "False\n",
      "[2, 3]\n",
      "[2, 3]\n",
      "[3, 2]\n",
      "1\n",
      "1\n"
     ]
    }
   ],
   "source": [
    "my_list = [2, 290, False, 19.6]\n",
    "my_list.append(2)  #takes only one argument\n",
    "print(my_list)\n",
    "my_list.insert(3,3)\n",
    "print(my_list) #only one argument and stores it to a given memory index\n",
    "my_list.pop() #still understanding\n",
    "print(my_list)\n",
    "print(my_list.pop()) # 19.6\n",
    "my_list.pop(1)\n",
    "print(my_list) #[2, False, 3]\n",
    "print(my_list.pop(1)) #False\n",
    "print(my_list)#[2,3]\n",
    "my_list.sort()\n",
    "print(my_list) # list the  variables in ascending order\n",
    "my_list.reverse()\n",
    "print(my_list) # list the variables in reverse replasing indexing\n",
    "print(my_list.count(3)) # Counts the numbers of value 3 in the arry\n",
    "print(my_list.index(2)) # prints the index of the value 2\n",
    "\n",
    "\n",
    "\n",
    "\n"
   ]
  },
  {
   "cell_type": "code",
   "execution_count": 1,
   "metadata": {},
   "outputs": [
    {
     "name": "stdout",
     "output_type": "stream",
     "text": [
      "3\n",
      "2\n",
      "2\n",
      "1\n"
     ]
    }
   ],
   "source": [
    "bim = [2, 100, 35, False, True, 2, 100, 300, 2]\n",
    "biim = [4, 5, 5, 200, 300, False, True, False, True]\n",
    "\n",
    "print(bim.count(2))\n",
    "print(bim.index(35))\n",
    "\n",
    "print(biim.count(False))\n",
    "print(biim.index(5))"
   ]
  },
  {
   "cell_type": "code",
   "execution_count": 5,
   "metadata": {},
   "outputs": [
    {
     "data": {
      "text/plain": [
       "75"
      ]
     },
     "execution_count": 5,
     "metadata": {},
     "output_type": "execute_result"
    }
   ],
   "source": [
    "(54).__add__(21)\n",
    "# (54).__add__(2)\n",
    "# (5).__add__(2)"
   ]
  }
 ],
 "metadata": {
  "kernelspec": {
   "display_name": "Python 3",
   "language": "python",
   "name": "python3"
  },
  "language_info": {
   "codemirror_mode": {
    "name": "ipython",
    "version": 3
   },
   "file_extension": ".py",
   "mimetype": "text/x-python",
   "name": "python",
   "nbconvert_exporter": "python",
   "pygments_lexer": "ipython3",
   "version": "3.10.12"
  }
 },
 "nbformat": 4,
 "nbformat_minor": 2
}
