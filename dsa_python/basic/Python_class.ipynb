{
 "cells": [
  {
   "cell_type": "markdown",
   "id": "87aae46e",
   "metadata": {},
   "source": [
    "# CLASS "
   ]
  },
  {
   "cell_type": "markdown",
   "id": "52a66a64",
   "metadata": {},
   "source": [
    "We use the **class** keyword to create a class in Python. For example,"
   ]
  },
  {
   "cell_type": "code",
   "execution_count": 6,
   "id": "862f9257",
   "metadata": {},
   "outputs": [],
   "source": [
    "class Classname:\n",
    "    '''class definition'''"
   ]
  },
  {
   "cell_type": "code",
   "execution_count": null,
   "id": "88eee699",
   "metadata": {},
   "outputs": [],
   "source": [
    "class Person:\n",
    "    name = \"\"\n",
    "    age = 0\n",
    "    height = 0"
   ]
  },
  {
   "cell_type": "markdown",
   "id": "a0dff957",
   "metadata": {},
   "source": [
    "Here,\n",
    "\n",
    "Person - the name of the class\n",
    "\n",
    "name/age/height - variables inside the class with default values \"\" and 0 respectively.\n",
    "\n",
    "The variables inside a class are called attributes."
   ]
  },
  {
   "cell_type": "markdown",
   "id": "4fd47855",
   "metadata": {},
   "source": [
    "# Objects in a class"
   ]
  },
  {
   "cell_type": "markdown",
   "id": "e23cb73a",
   "metadata": {},
   "source": [
    "An **object** is called an instance of a class.\n",
    "\n",
    "Suppose Person is a class then we can create objects like person1, Person2, etc from the class.\n",
    "\n",
    "Here's the syntax to create an object."
   ]
  },
  {
   "cell_type": "markdown",
   "id": "cc6a3010",
   "metadata": {},
   "source": [
    "*objectName = ClassName()*"
   ]
  },
  {
   "cell_type": "code",
   "execution_count": 10,
   "id": "0d362075",
   "metadata": {},
   "outputs": [],
   "source": [
    "class Person:\n",
    "    name = \"\"\n",
    "    age = 0\n",
    "    height = 0\n",
    "\n",
    "person1=Person()"
   ]
  },
  {
   "cell_type": "markdown",
   "id": "30b3c545",
   "metadata": {},
   "source": [
    "Here, person1 is the **object** of the class. Now, we can use this object to access the class attributes.\n",
    "\n",
    "We use the . notation to access the attributes of a class. For example,"
   ]
  },
  {
   "cell_type": "code",
   "execution_count": 14,
   "id": "c325a9a1",
   "metadata": {},
   "outputs": [
    {
     "data": {
      "text/plain": [
       "100"
      ]
     },
     "execution_count": 14,
     "metadata": {},
     "output_type": "execute_result"
    }
   ],
   "source": [
    "# modify the name property\n",
    "person1.name = \"Stanley\"\n",
    "\n",
    "# access the age property\n",
    "person1.age "
   ]
  },
  {
   "cell_type": "code",
   "execution_count": 15,
   "id": "8a031397",
   "metadata": {},
   "outputs": [
    {
     "name": "stdout",
     "output_type": "stream",
     "text": [
      "Name: Joy, age: 11 \n"
     ]
    }
   ],
   "source": [
    "class Person:\n",
    "    name = \"\"\n",
    "    age = 0\n",
    "    height = 0\n",
    "\n",
    "person1=Person()\n",
    "\n",
    "# access attributes and assign new values\n",
    "person1.age = 11\n",
    "person1.name = \"Joy\"\n",
    "\n",
    "print(f\"Name: {person1.name}, age: {person1.age} \")"
   ]
  },
  {
   "cell_type": "markdown",
   "id": "266a025b",
   "metadata": {},
   "source": [
    "# another example"
   ]
  },
  {
   "cell_type": "code",
   "execution_count": 16,
   "id": "caa8dd99",
   "metadata": {},
   "outputs": [
    {
     "name": "stdout",
     "output_type": "stream",
     "text": [
      "Employee ID: 1001\n",
      "Employee ID: 1002\n"
     ]
    }
   ],
   "source": [
    "# define a class\n",
    "class Employee:\n",
    "    # define a property\n",
    "    employee_id = 0\n",
    "\n",
    "# create two objects of the Employee class\n",
    "employee1 = Employee()\n",
    "employee2 = Employee()\n",
    "\n",
    "# access property using employee1\n",
    "employee1.employeeID = 1001\n",
    "print(f\"Employee ID: {employee1.employeeID}\")\n",
    "\n",
    "# access properties using employee2\n",
    "employee2.employeeID = 1002\n",
    "print(f\"Employee ID: {employee2.employeeID}\")"
   ]
  },
  {
   "cell_type": "markdown",
   "id": "c094b9c2",
   "metadata": {},
   "source": [
    "# Python Method"
   ]
  },
  {
   "cell_type": "markdown",
   "id": "64db90fe",
   "metadata": {},
   "source": [
    "We can also define a function inside a Python class. \n",
    "\n",
    "A Python function defined inside a class is called a **method**.\n",
    "\n",
    "Let's see an example,"
   ]
  },
  {
   "cell_type": "code",
   "execution_count": 22,
   "id": "3ddb110a",
   "metadata": {},
   "outputs": [
    {
     "name": "stdout",
     "output_type": "stream",
     "text": [
      "Name: Joy, weight = 58.82 kg\n"
     ]
    }
   ],
   "source": [
    "# create a class\n",
    "class Person:\n",
    "    name = \"\"\n",
    "    age = 0\n",
    "    height = 0\n",
    "    \n",
    "    # method to calculate ideal weight. From a certain source ideal weight=56+1.41 per ft after 5ft\n",
    "    # current restiction is \n",
    "    def calculate_weight(self):\n",
    "        ideal_weight = ((self.height - 5) * 1.41) + 56\n",
    "        print(f\"Name: {self.name}, weight = {ideal_weight:.2f} kg\")\n",
    "\n",
    "# create object of Room class\n",
    "Person1 = Person()\n",
    "\n",
    "# assign values to all the properties \n",
    "Person1.name =\"Joy\"\n",
    "Person1.height = 7\n",
    "\n",
    "# access method inside class\n",
    "Person1.calculate_weight()"
   ]
  },
  {
   "cell_type": "markdown",
   "id": "1e43163e",
   "metadata": {},
   "source": [
    "Attributes: name, age and height\n",
    "\n",
    "Method: calculate_weight"
   ]
  },
  {
   "cell_type": "markdown",
   "id": "0e8adb3b",
   "metadata": {},
   "source": [
    "# Python Constructor"
   ]
  },
  {
   "cell_type": "markdown",
   "id": "00f372bb",
   "metadata": {},
   "source": [
    "We can also initialize values using the constructors. For example,"
   ]
  },
  {
   "cell_type": "code",
   "execution_count": null,
   "id": "a5b5fc6b",
   "metadata": {},
   "outputs": [],
   "source": [
    "class Person:\n",
    "    # constructor function  \n",
    "    def __init__(self, name, age):\n",
    "        self.name = name\n",
    "        self.age = age\n",
    "'''NOTE: If we use a constructor to initialize values inside a class,\n",
    "we need to pass the corresponding value during the object creation of the class.'''\n",
    "p1 = Person(\"John\", 36)\n",
    "\n",
    "print(p1.name)\n",
    "print(p1.age)"
   ]
  },
  {
   "cell_type": "markdown",
   "id": "3964bdf1",
   "metadata": {},
   "source": [
    "A constructor is used to initialize an object’s state.\n",
    "\n",
    "In Python, __init__ behaves like a constructor for a class.\n",
    "\n",
    "__init__ is called whenever a classes’ object is created.\n",
    "\n",
    "**self** represents a class’s instance and is required to access any variables or methods within the class.\n",
    "\n",
    "To understand the meaning of classes we have to understand the built-in __init__() function.\n",
    "\n",
    "All classes have a function called __init__(), which is always executed when the class is being initiated.\n",
    "\n",
    "Use the __init__() function to assign values to object properties, or other operations that are necessary to do when the object is being created.\n",
    "\n",
    "Note: The __init__() function is called automatically every time the class is being used to create a new object."
   ]
  },
  {
   "cell_type": "code",
   "execution_count": 37,
   "id": "2d3c0869",
   "metadata": {},
   "outputs": [
    {
     "name": "stdout",
     "output_type": "stream",
     "text": [
      "Data is 3\n"
     ]
    }
   ],
   "source": [
    "class Code: \n",
    "    def __init__(self, data):\n",
    "        self.data = data\n",
    "    def print_data(self):\n",
    "        print(\"Data is\", self.data )\n",
    "\n",
    "p = Code(3) ## Instance of class. \n",
    "p.print_data()\n",
    "## __init__ is the first method that is called when you initilaze an object\n",
    "## self is used to access the attribute data. "
   ]
  },
  {
   "cell_type": "code",
   "execution_count": 24,
   "id": "2161a8ae",
   "metadata": {},
   "outputs": [
    {
     "name": "stdout",
     "output_type": "stream",
     "text": [
      "John\n",
      "36\n",
      "5.6ft\n"
     ]
    }
   ],
   "source": [
    "class Person:\n",
    "    def __init__(self, name, age, height):\n",
    "        self.name = name\n",
    "        self.age = age\n",
    "        self.height = height\n",
    "\n",
    "p1 = Person(\"John\", 36, \"5.6ft\")\n",
    "\n",
    "print(p1.name)\n",
    "print(p1.age)\n",
    "print(p1.height)"
   ]
  },
  {
   "cell_type": "markdown",
   "id": "ef99b8db",
   "metadata": {},
   "source": [
    "# Example"
   ]
  },
  {
   "cell_type": "code",
   "execution_count": null,
   "id": "a88a6168",
   "metadata": {},
   "outputs": [],
   "source": [
    "# Detergent Company Sales Application\n",
    "\n",
    "class DetergentProduct:\n",
    "    def __init__(self, product_id, name, price):\n",
    "        self.product_id = product_id\n",
    "        self.name = name\n",
    "        self.price = price\n",
    "\n",
    "class DetergentCompany:\n",
    "    def __init__(self):\n",
    "        self.products = []\n",
    "\n",
    "    def add_product(self, product):\n",
    "        self.products.append(product)\n",
    "\n",
    "    def display_products(self):\n",
    "        print(\"Available Detergent Products:\")\n",
    "        for product in self.products:\n",
    "            print(f\"ID: {product.product_id} | Name: {product.name} | Price: ${product.price:.2f}\")\n",
    "\n",
    "def main():\n",
    "    company = DetergentCompany()\n",
    "\n",
    "    # Add sample products\n",
    "    company.add_product(DetergentProduct(1, \"Premium Laundry Detergent\", 12.99))\n",
    "    company.add_product(DetergentProduct(2, \"Eco-Friendly Dish Soap\", 8.49))\n",
    "    company.add_product(DetergentProduct(3, \"Stain Remover Spray\", 6.99))\n",
    "\n",
    "    while True:\n",
    "        print(\"\\nDetergent Company Sales System\")\n",
    "        print(\"1. View available products\")\n",
    "        print(\"2. Exit\")\n",
    "\n",
    "        choice = input(\"Enter your choice (1 or 2): \")\n",
    "\n",
    "        if choice == '1':\n",
    "            company.display_products()\n",
    "        elif choice == '2':\n",
    "            print(\"Thank you for using our system. Have a great day!\")\n",
    "            break\n",
    "        else:\n",
    "            print(\"Invalid choice. Please select 1 or 2.\")\n",
    "\n",
    "if __name__ == \"__main__\":\n",
    "    main()\n"
   ]
  },
  {
   "cell_type": "code",
   "execution_count": null,
   "id": "af90816b",
   "metadata": {},
   "outputs": [],
   "source": [
    "def add(num1: int, num2: int) -> int:\n",
    "\t\"\"\"Add two numbers\"\"\"\n",
    "\tnum3 = num1 + num2\n",
    "\n",
    "\treturn num3\n",
    "\n",
    "# Driver code\n",
    "num1, num2 = 5, 15\n",
    "ans = add(num1, num2)\n",
    "print(f\"The addition of {num1} and {num2} results {ans}.\")\n"
   ]
  },
  {
   "cell_type": "markdown",
   "id": "1ff3ca3b",
   "metadata": {},
   "source": [
    "# Stacks"
   ]
  },
  {
   "cell_type": "markdown",
   "id": "05487801",
   "metadata": {},
   "source": [
    "A stack is a linear data structure that follows the principle of Last In First Out (LIFO). \n",
    "\n",
    "This means the last element inserted inside the stack is removed first."
   ]
  },
  {
   "cell_type": "code",
   "execution_count": 1,
   "id": "5d9af5bf",
   "metadata": {},
   "outputs": [],
   "source": [
    "# Completed implementation of a stack ADT\n",
    "class Stack:\n",
    "    def __init__(self):\n",
    "        self.items = []\n",
    "        \n",
    "    def is_empty(self):\n",
    "        return self.items == []\n",
    "\n",
    "    def push(self, item):\n",
    "        self.items.append(item)\n",
    "    \n",
    "    def pop(self):\n",
    "        return self.items.pop()\n",
    "\n",
    "    def peek(self):\n",
    "        return self.items[len(self.items)-1]\n",
    "    def size(self):\n",
    "        return len(self.items)\n"
   ]
  },
  {
   "cell_type": "code",
   "execution_count": 2,
   "id": "638d197d",
   "metadata": {},
   "outputs": [
    {
     "name": "stdout",
     "output_type": "stream",
     "text": [
      "True\n",
      "dog\n",
      "3\n",
      "False\n",
      "8.4\n",
      "True\n",
      "2\n"
     ]
    },
    {
     "data": {
      "text/plain": [
       "2"
      ]
     },
     "execution_count": 2,
     "metadata": {},
     "output_type": "execute_result"
    }
   ],
   "source": [
    "s = Stack()\n",
    "print(s.is_empty())\n",
    "s.push(4)\n",
    "s.push('dog')\n",
    "print(s.peek())\n",
    "s.push(True)\n",
    "print(s.size())\n",
    "print(s.is_empty())\n",
    "s.push(8.4)\n",
    "print(s.pop())\n",
    "print(s.pop())\n",
    "print(s.size())\n",
    "s.size()"
   ]
  },
  {
   "cell_type": "markdown",
   "id": "bd5d954e",
   "metadata": {},
   "source": [
    "# Queues"
   ]
  },
  {
   "cell_type": "markdown",
   "id": "dfda0438",
   "metadata": {},
   "source": [
    "A queue is a useful data structure in programming.\n",
    "\n",
    "It is similar to the queue at the stage for supermetro buses,\n",
    "where the first person entering the queue is the first person who gets a sit on the bus."
   ]
  },
  {
   "cell_type": "code",
   "execution_count": 23,
   "id": "0c44bbb5",
   "metadata": {},
   "outputs": [],
   "source": [
    "# Completed implementation of a queue ADT\n",
    "class Queue:\n",
    "    def __init__(self):\n",
    "        self.items = []\n",
    "    def is_empty(self):\n",
    "        return self.items == []\n",
    "    def enqueue(self, item):\n",
    "        self.items.insert(0,item)\n",
    "    def dequeue(self):\n",
    "        return self.items.pop()\n",
    "    def size(self):\n",
    "        return len(self.items)\n"
   ]
  },
  {
   "cell_type": "code",
   "execution_count": 39,
   "id": "e72e70e6",
   "metadata": {},
   "outputs": [
    {
     "name": "stdout",
     "output_type": "stream",
     "text": [
      "<__main__.Queue object at 0x00000168124FFEE0>\n"
     ]
    }
   ],
   "source": [
    "q = Queue()\n",
    "q.enqueue('hello')\n",
    "q.enqueue('dog')\n",
    "q.enqueue(3)\n",
    "q.dequeue()\n"
   ]
  },
  {
   "cell_type": "code",
   "execution_count": 25,
   "id": "318f3102",
   "metadata": {},
   "outputs": [
    {
     "name": "stdout",
     "output_type": "stream",
     "text": [
      "Items in the queue:  [1, 2, 3]\n",
      "Removed item:  1\n",
      "Removed item:  2\n",
      "Items in the queue:  [3]\n"
     ]
    }
   ],
   "source": [
    "class Queue:\n",
    "    def __init__(self):\n",
    "        self.queue = []\n",
    " \n",
    "    def is_empty(self):\n",
    "        return self.queue == []\n",
    " \n",
    "    def enqueue(self, data):\n",
    "        self.queue.append(data)\n",
    " \n",
    "    def dequeue(self):\n",
    "        data = self.queue[0]\n",
    "        del self.queue[0]\n",
    "        return data\n",
    " \n",
    "queue = Queue()\n",
    "queue.enqueue(1)\n",
    "queue.enqueue(2)\n",
    "queue.enqueue(3)\n",
    "print(\"Items in the queue: \", queue.queue)\n",
    "print(\"Removed item: \", queue.dequeue())\n",
    "print(\"Removed item: \", queue.dequeue())\n",
    "print(\"Items in the queue: \", queue.queue)"
   ]
  },
  {
   "cell_type": "raw",
   "id": "9a3b6ef5",
   "metadata": {},
   "source": [
    "Implementing a queue as a stack"
   ]
  },
  {
   "cell_type": "code",
   "execution_count": 26,
   "id": "5c100f9f",
   "metadata": {},
   "outputs": [],
   "source": [
    "class MyQueue:\n",
    "    def __init__(self):\n",
    "        # The stack1 and stack2 are two lists that will be used as stacks.\n",
    "        self.stack1 = []\n",
    "        self.stack2 = []\n",
    "\n",
    "    # The push method adds an element to the stack1.\n",
    "    def push(self, x: int) -> None:\n",
    "        self.stack1.append(x)\n",
    "    \n",
    "    # The pop method moves all elements from stack1 to stack2. \n",
    "    # if stack2 is empty, then returns the last element of stack2.\n",
    "    def pop(self) -> int:\n",
    "        if not self.stack2:\n",
    "            while self.stack1:\n",
    "                self.stack2.append(self.stack1.pop())\n",
    "        return self.stack2.pop()\n",
    "    \n",
    "    # The peek method works similarly to pop method, but it returns the last element without removing it from the stack.\n",
    "    def peek(self) -> int:\n",
    "        if not self.stack2:\n",
    "            while self.stack1:\n",
    "                self.stack2.append(self.stack1.pop())\n",
    "        return self.stack2[-1]\n",
    "    \n",
    "    # The empty method returns True if both stack1 and stack2 are empty, otherwise False.\n",
    "    def empty(self) -> bool:\n",
    "        return not self.stack1 and not self.stack2"
   ]
  },
  {
   "cell_type": "code",
   "execution_count": 32,
   "id": "c7d2ec68",
   "metadata": {},
   "outputs": [
    {
     "name": "stdout",
     "output_type": "stream",
     "text": [
      "Items in the queue:  1\n",
      "Removed item:  1\n",
      "Removed item:  2\n",
      "Items in the queue:  3\n"
     ]
    }
   ],
   "source": [
    "queue = MyQueue()\n",
    "queue.push(1)\n",
    "queue.push(2)\n",
    "queue.push(3)\n",
    "print(\"Items in the queue: \", queue.peek())\n",
    "print(\"Removed item: \", queue.pop())\n",
    "print(\"Removed item: \", queue.pop())\n",
    "print(\"Items in the queue: \", queue.peek())"
   ]
  },
  {
   "cell_type": "raw",
   "id": "e9b35019",
   "metadata": {},
   "source": [
    "Deque (Doubly Ended Queue) in Python is implemented using the module “collections“. \n",
    "\n",
    "Deque is preferred over a list in the cases where we need quicker append and pop operations from both the ends of the container, as deque provides an O(1) time complexity for append and pop operations as compared to a list that provides O(n) time complexity."
   ]
  },
  {
   "cell_type": "code",
   "execution_count": 33,
   "id": "134736ae",
   "metadata": {},
   "outputs": [
    {
     "name": "stdout",
     "output_type": "stream",
     "text": [
      "deque(['name', 'age', 'DOB'])\n"
     ]
    }
   ],
   "source": [
    "from collections import deque \n",
    "      \n",
    "# Declaring deque \n",
    "de = deque(['name','age','DOB'])  \n",
    "      \n",
    "print(de)"
   ]
  },
  {
   "cell_type": "code",
   "execution_count": 34,
   "id": "1736518d",
   "metadata": {},
   "outputs": [
    {
     "name": "stdout",
     "output_type": "stream",
     "text": [
      "\n",
      "The deque after appending at right is : \n",
      "deque(['name', 'age', 'DOB', 4])\n",
      "\n",
      "The deque after appending at left is : \n",
      "deque([6, 'name', 'age', 'DOB', 4])\n"
     ]
    }
   ],
   "source": [
    "# using append() to insert element at right end\n",
    "# inserts 4 at the end of deque\n",
    "de.append(4)\n",
    "  \n",
    "# printing modified deque\n",
    "print(\"\\nThe deque after appending at right is : \")\n",
    "print(de)\n",
    "  \n",
    "# using appendleft() to insert element at left end\n",
    "# inserts 6 at the beginning of deque\n",
    "de.appendleft(6)\n",
    "  \n",
    "# printing modified deque\n",
    "print(\"\\nThe deque after appending at left is : \")\n",
    "print(de)"
   ]
  },
  {
   "cell_type": "code",
   "execution_count": 35,
   "id": "f13ad23a",
   "metadata": {},
   "outputs": [
    {
     "name": "stdout",
     "output_type": "stream",
     "text": [
      "\n",
      "The deque after deleting from left is : \n",
      "deque(['name', 'age', 'DOB', 4])\n"
     ]
    }
   ],
   "source": [
    "de.popleft()\n",
    "  \n",
    "# printing modified deque\n",
    "print(\"\\nThe deque after deleting from left is : \")\n",
    "print(de)"
   ]
  },
  {
   "cell_type": "code",
   "execution_count": 36,
   "id": "a99d6b03",
   "metadata": {},
   "outputs": [
    {
     "name": "stdout",
     "output_type": "stream",
     "text": [
      "The number 4 first occurs at a position : \n",
      "3\n",
      "The deque after inserting 3 at 5th position is : \n",
      "deque(['name', 'age', 'DOB', 4, 3])\n"
     ]
    }
   ],
   "source": [
    "# using index() to print the first occurrence of 4\n",
    "print (\"The number 4 first occurs at a position : \")\n",
    "print (de.index(4,2,5))\n",
    "  \n",
    "# using insert() to insert the value 3 at 5th position\n",
    "de.insert(4,3)\n",
    "  \n",
    "# printing modified deque\n",
    "print (\"The deque after inserting 3 at 5th position is : \")\n",
    "print (de)\n",
    "  "
   ]
  },
  {
   "cell_type": "markdown",
   "id": "665db6bc",
   "metadata": {},
   "source": [
    "https://github.com/codebasics/data-structures-algorithms-python/tree/master/data_structures\n"
   ]
  },
  {
   "cell_type": "markdown",
   "id": "a78dd0a4",
   "metadata": {},
   "source": [
    "# Hash Tables\n",
    "\n"
   ]
  },
  {
   "cell_type": "markdown",
   "id": "3bd48614",
   "metadata": {},
   "source": [
    "Hash tables are a type of data structure in which the address or the index value of the data element is generated from a hash function. \n",
    "\n",
    "That makes accessing the data faster as the index value behaves as a key for the data value. In other words Hash table stores key-value pairs but the key is generated through a hashing function.\n",
    "\n",
    "So the search and insertion function of a data element becomes much faster as the key values themselves become the index of the array which stores the data.\n",
    "\n",
    "In Python, the Dictionary data types represent the implementation of hash tables. The Keys in the dictionary satisfy the following requirements.\n",
    "\n",
    "The keys of the dictionary are hashable i.e. the are generated by hashing function which generates unique result for each unique value supplied to the hash function.\n",
    "\n",
    "The order of data elements in a dictionary is not fixed.\n"
   ]
  },
  {
   "cell_type": "markdown",
   "id": "a136baf8",
   "metadata": {},
   "source": [
    "# Hash function"
   ]
  },
  {
   "cell_type": "markdown",
   "id": "d82b6da8",
   "metadata": {},
   "source": [
    "A hash function is an algorithm that transform an input (a file, byte streams, etc.) into an output (e.g. hash or digest) that holds the following properties\n",
    "\n",
    "one cannot guess the input from the output (hash or digest)\n",
    "\n",
    "each time the hash function is invoked, the same value is produced\n",
    "\n",
    "A hash function should also avoid collision, which mean to avoid (or at least reduce as much as possible) having the same hash or digest for different input values. In other words, the hash/digest values should (mostly) be unique."
   ]
  },
  {
   "cell_type": "markdown",
   "id": "b780a8d9",
   "metadata": {},
   "source": [
    "An weak hash function is a function where:\n",
    "\n",
    "There are too many collision and too many different values produce the same hash\n",
    "\n",
    "The input can be guessed from the output"
   ]
  },
  {
   "cell_type": "code",
   "execution_count": 63,
   "id": "7623fc27",
   "metadata": {},
   "outputs": [
    {
     "name": "stdout",
     "output_type": "stream",
     "text": [
      "For 1020, Hash : 1020\n",
      "For 100.523, Hash: 1205955893818753124\n",
      "For Hello from AskPython, Hash: 3707171149026469626\n"
     ]
    }
   ],
   "source": [
    "int_hash = hash(1020)\n",
    " \n",
    "float_hash = hash(100.523)\n",
    " \n",
    "string_hash = hash(\"Hello from AskPython\")\n",
    " \n",
    "print(f\"For {1020}, Hash : {int_hash}\")\n",
    "print(f\"For {100.523}, Hash: {float_hash}\")\n",
    "print(f\"For {'Hello from AskPython'}, Hash: {string_hash}\")"
   ]
  },
  {
   "cell_type": "code",
   "execution_count": 65,
   "id": "4e695136",
   "metadata": {},
   "outputs": [],
   "source": [
    "import hashlib\n",
    "message = hashlib.sha256()\n",
    "message.update(b\"My message\")\n",
    "hex_digest = message.hexdigest()"
   ]
  },
  {
   "cell_type": "code",
   "execution_count": 66,
   "id": "bd64d36e",
   "metadata": {},
   "outputs": [
    {
     "data": {
      "text/plain": [
       "<sha256 _hashlib.HASH object @ 0x0000024124BB16B0>"
      ]
     },
     "execution_count": 66,
     "metadata": {},
     "output_type": "execute_result"
    }
   ],
   "source": [
    "message"
   ]
  },
  {
   "cell_type": "code",
   "execution_count": 67,
   "id": "5d77508e",
   "metadata": {},
   "outputs": [
    {
     "data": {
      "text/plain": [
       "'acc147c887e3b838ebf870c8779989fa8283eff5787b57f1acb35cac63244a81'"
      ]
     },
     "execution_count": 67,
     "metadata": {},
     "output_type": "execute_result"
    }
   ],
   "source": [
    "hex_digest"
   ]
  },
  {
   "cell_type": "markdown",
   "id": "51d372cd",
   "metadata": {},
   "source": [
    "https://pythonwife.com/hashing-in-python/"
   ]
  }
 ],
 "metadata": {
  "kernelspec": {
   "display_name": "Python 3 (ipykernel)",
   "language": "python",
   "name": "python3"
  },
  "language_info": {
   "codemirror_mode": {
    "name": "ipython",
    "version": 3
   },
   "file_extension": ".py",
   "mimetype": "text/x-python",
   "name": "python",
   "nbconvert_exporter": "python",
   "pygments_lexer": "ipython3",
   "version": "3.11.5"
  }
 },
 "nbformat": 4,
 "nbformat_minor": 5
}
